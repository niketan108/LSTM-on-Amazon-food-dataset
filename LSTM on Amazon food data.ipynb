{
 "cells": [
  {
   "cell_type": "markdown",
   "metadata": {},
   "source": [
    "# Amazon Fine Food Reviews Analysis"
   ]
  },
  {
   "cell_type": "markdown",
   "metadata": {},
   "source": [
    "Data Source: https://www.kaggle.com/snap/amazon-fine-food-reviews \n",
    "\n",
    "EDA: https://nycdatascience.com/blog/student-works/amazon-fine-foods-visualization/\n",
    "\n",
    "The Amazon Fine Food Reviews dataset consists of reviews of fine foods from Amazon.\n",
    "\n",
    "Number of reviews: 568,454\n",
    "Number of users: 256,059\n",
    "Number of products: 74,258\n",
    "Timespan: Oct 1999 - Oct 2012\n",
    "Number of Attributes/Columns in data: 10\n",
    "\n",
    "Attribute Information:\n",
    "\n",
    "Id\n",
    "ProductId - unique identifier for the product\n",
    "UserId - unqiue identifier for the user\n",
    "ProfileName\n",
    "HelpfulnessNumerator - number of users who found the review helpful\n",
    "HelpfulnessDenominator - number of users who indicated whether they found the review helpful or not\n",
    "Score - rating between 1 and 5\n",
    "Time - timestamp for the review\n",
    "Summary - brief summary of the review\n",
    "Text - text of the review\n",
    "Objective:\n",
    "Given a review, determine whether the review is positive (rating of 4 or 5) or negative (rating of 1 or 2).\n",
    "\n",
    "\n",
    "[Q] How to determine if a review is positive or negative?\n",
    "\n",
    "[Ans] We could use Score/Rating. A rating of 4 or 5 can be cosnidered as a positive review. A rating of 1 or 2 can be considered as negative one. A review of rating 3 is considered nuetral and such reviews are ignored from our analysis. This is an approximate and proxy way of determining the polarity (positivity/negativity) of a review."
   ]
  },
  {
   "cell_type": "markdown",
   "metadata": {},
   "source": [
    "## [1] Reading Data "
   ]
  },
  {
   "cell_type": "markdown",
   "metadata": {},
   "source": [
    "### Loading the data "
   ]
  },
  {
   "cell_type": "markdown",
   "metadata": {},
   "source": [
    "The dataset is available in two forms\n",
    "\n",
    ".csv file\n",
    "SQLite Database\n",
    "In order to load the data, We have used the SQLITE dataset as it is easier to query the data and visualise the data efficiently. \n",
    "\n",
    "Here as we only want to get the global sentiment of the recommendations (positive or negative), we will purposefully ignore all Scores equal to 3. If the score is above 3, then the recommendation wil be set to \"positive\". Otherwise, it will be set to \"negative\".\n",
    "\n"
   ]
  },
  {
   "cell_type": "code",
   "execution_count": 1,
   "metadata": {},
   "outputs": [],
   "source": [
    "%matplotlib inline\n",
    "import warnings\n",
    "warnings.filterwarnings(\"ignore\")\n",
    "\n",
    "import sqlite3\n",
    "import pandas as pd\n",
    "import numpy as np\n",
    "import nltk\n",
    "import string\n",
    "import matplotlib.pyplot as plt\n",
    "import seaborn as sns"
   ]
  },
  {
   "cell_type": "markdown",
   "metadata": {},
   "source": [
    "# [2] Exploratory Data Analysis"
   ]
  },
  {
   "cell_type": "markdown",
   "metadata": {},
   "source": [
    "We already done EDA and prepossing of data and stored it in final.sqlite. This we will use it directly so now we don't need to do EDA and preprocessing. In Preprocessing section, we are going to use our saved final.sqlite directly."
   ]
  },
  {
   "cell_type": "markdown",
   "metadata": {},
   "source": [
    "# [3] Preprocessing"
   ]
  },
  {
   "cell_type": "code",
   "execution_count": 2,
   "metadata": {},
   "outputs": [],
   "source": [
    "#loading preprocessed data which was stored in final dataset\n",
    "con = sqlite3.connect('final.sqlite') "
   ]
  },
  {
   "cell_type": "code",
   "execution_count": 3,
   "metadata": {},
   "outputs": [
    {
     "data": {
      "text/plain": [
       "(364171, 12)"
      ]
     },
     "execution_count": 3,
     "metadata": {},
     "output_type": "execute_result"
    }
   ],
   "source": [
    "cleaned_data = pd.read_sql_query(\"select * from Reviews\", con)\n",
    "cleaned_data.shape"
   ]
  },
  {
   "cell_type": "code",
   "execution_count": 4,
   "metadata": {},
   "outputs": [
    {
     "data": {
      "text/html": [
       "<div>\n",
       "<style scoped>\n",
       "    .dataframe tbody tr th:only-of-type {\n",
       "        vertical-align: middle;\n",
       "    }\n",
       "\n",
       "    .dataframe tbody tr th {\n",
       "        vertical-align: top;\n",
       "    }\n",
       "\n",
       "    .dataframe thead th {\n",
       "        text-align: right;\n",
       "    }\n",
       "</style>\n",
       "<table border=\"1\" class=\"dataframe\">\n",
       "  <thead>\n",
       "    <tr style=\"text-align: right;\">\n",
       "      <th></th>\n",
       "      <th>index</th>\n",
       "      <th>Id</th>\n",
       "      <th>ProductId</th>\n",
       "      <th>UserId</th>\n",
       "      <th>ProfileName</th>\n",
       "      <th>HelpfulnessNumerator</th>\n",
       "      <th>HelpfulnessDenominator</th>\n",
       "      <th>Score</th>\n",
       "      <th>Time</th>\n",
       "      <th>Summary</th>\n",
       "      <th>Text</th>\n",
       "      <th>CleanedText</th>\n",
       "    </tr>\n",
       "  </thead>\n",
       "  <tbody>\n",
       "    <tr>\n",
       "      <th>0</th>\n",
       "      <td>138706</td>\n",
       "      <td>150524</td>\n",
       "      <td>0006641040</td>\n",
       "      <td>ACITT7DI6IDDL</td>\n",
       "      <td>shari zychinski</td>\n",
       "      <td>0</td>\n",
       "      <td>0</td>\n",
       "      <td>1</td>\n",
       "      <td>939340800</td>\n",
       "      <td>EVERY book is educational</td>\n",
       "      <td>this witty little book makes my son laugh at l...</td>\n",
       "      <td>b'witti littl book make son laugh loud recit c...</td>\n",
       "    </tr>\n",
       "    <tr>\n",
       "      <th>1</th>\n",
       "      <td>138688</td>\n",
       "      <td>150506</td>\n",
       "      <td>0006641040</td>\n",
       "      <td>A2IW4PEEKO2R0U</td>\n",
       "      <td>Tracy</td>\n",
       "      <td>1</td>\n",
       "      <td>1</td>\n",
       "      <td>1</td>\n",
       "      <td>1194739200</td>\n",
       "      <td>Love the book, miss the hard cover version</td>\n",
       "      <td>I grew up reading these Sendak books, and watc...</td>\n",
       "      <td>b'grew read sendak book watch realli rosi movi...</td>\n",
       "    </tr>\n",
       "    <tr>\n",
       "      <th>2</th>\n",
       "      <td>138689</td>\n",
       "      <td>150507</td>\n",
       "      <td>0006641040</td>\n",
       "      <td>A1S4A3IQ2MU7V4</td>\n",
       "      <td>sally sue \"sally sue\"</td>\n",
       "      <td>1</td>\n",
       "      <td>1</td>\n",
       "      <td>1</td>\n",
       "      <td>1191456000</td>\n",
       "      <td>chicken soup with rice months</td>\n",
       "      <td>This is a fun way for children to learn their ...</td>\n",
       "      <td>b'fun way children learn month year learn poem...</td>\n",
       "    </tr>\n",
       "  </tbody>\n",
       "</table>\n",
       "</div>"
      ],
      "text/plain": [
       "    index      Id   ProductId          UserId            ProfileName  \\\n",
       "0  138706  150524  0006641040   ACITT7DI6IDDL        shari zychinski   \n",
       "1  138688  150506  0006641040  A2IW4PEEKO2R0U                  Tracy   \n",
       "2  138689  150507  0006641040  A1S4A3IQ2MU7V4  sally sue \"sally sue\"   \n",
       "\n",
       "   HelpfulnessNumerator  HelpfulnessDenominator  Score        Time  \\\n",
       "0                     0                       0      1   939340800   \n",
       "1                     1                       1      1  1194739200   \n",
       "2                     1                       1      1  1191456000   \n",
       "\n",
       "                                      Summary  \\\n",
       "0                   EVERY book is educational   \n",
       "1  Love the book, miss the hard cover version   \n",
       "2               chicken soup with rice months   \n",
       "\n",
       "                                                Text  \\\n",
       "0  this witty little book makes my son laugh at l...   \n",
       "1  I grew up reading these Sendak books, and watc...   \n",
       "2  This is a fun way for children to learn their ...   \n",
       "\n",
       "                                         CleanedText  \n",
       "0  b'witti littl book make son laugh loud recit c...  \n",
       "1  b'grew read sendak book watch realli rosi movi...  \n",
       "2  b'fun way children learn month year learn poem...  "
      ]
     },
     "execution_count": 4,
     "metadata": {},
     "output_type": "execute_result"
    }
   ],
   "source": [
    "cleaned_data.head(3)"
   ]
  },
  {
   "cell_type": "code",
   "execution_count": 5,
   "metadata": {},
   "outputs": [
    {
     "data": {
      "text/plain": [
       "1    307061\n",
       "0     57110\n",
       "Name: Score, dtype: int64"
      ]
     },
     "execution_count": 5,
     "metadata": {},
     "output_type": "execute_result"
    }
   ],
   "source": [
    "cleaned_data['Score'].value_counts()"
   ]
  },
  {
   "cell_type": "code",
   "execution_count": 6,
   "metadata": {},
   "outputs": [],
   "source": [
    "cleaned_data['CleanedText'] = cleaned_data['CleanedText'].str.decode(\"utf-8\")"
   ]
  },
  {
   "cell_type": "code",
   "execution_count": 7,
   "metadata": {},
   "outputs": [],
   "source": [
    "vocab = dict()\n",
    "for sent in cleaned_data['CleanedText'].values:\n",
    "    for word in sent.split():\n",
    "        if word not in vocab.keys():\n",
    "            vocab[word] = 1\n",
    "        else:\n",
    "            vocab[word] += 1"
   ]
  },
  {
   "cell_type": "code",
   "execution_count": 8,
   "metadata": {},
   "outputs": [],
   "source": [
    "import operator\n",
    "sorted_dict = sorted(vocab.items(), key=operator.itemgetter(1),reverse = True)"
   ]
  },
  {
   "cell_type": "code",
   "execution_count": 9,
   "metadata": {},
   "outputs": [],
   "source": [
    "ranking = dict()\n",
    "rank = 1\n",
    "for i in range(len(sorted_dict)):\n",
    "    k = sorted_dict[i][0]\n",
    "    ranking[k] = rank\n",
    "    rank+=1"
   ]
  },
  {
   "cell_type": "code",
   "execution_count": 10,
   "metadata": {},
   "outputs": [],
   "source": [
    "X = []\n",
    "for sent in cleaned_data['CleanedText'].values:\n",
    "    row_ = []\n",
    "    for word in sent.split():\n",
    "        row_.append(ranking[word])\n",
    "    X.append(row_)"
   ]
  },
  {
   "cell_type": "code",
   "execution_count": 11,
   "metadata": {},
   "outputs": [],
   "source": [
    "y = cleaned_data['Score']\n",
    "change = lambda x : 1 if x == 1 else 0\n",
    "y = np.array([change(x) for x in y])"
   ]
  },
  {
   "cell_type": "code",
   "execution_count": 12,
   "metadata": {},
   "outputs": [],
   "source": [
    "X = X[:100000]\n",
    "y = y[:100000]"
   ]
  },
  {
   "cell_type": "code",
   "execution_count": 13,
   "metadata": {},
   "outputs": [],
   "source": [
    "from sklearn.model_selection import train_test_split\n",
    "X_train , X_test , y_train , y_test = train_test_split(X,y,test_size = 0.3,random_state = 0,shuffle = False)"
   ]
  },
  {
   "cell_type": "code",
   "execution_count": 14,
   "metadata": {},
   "outputs": [
    {
     "name": "stderr",
     "output_type": "stream",
     "text": [
      "Using TensorFlow backend.\n"
     ]
    }
   ],
   "source": [
    "from keras.models import Sequential\n",
    "from keras.layers import Dense\n",
    "from keras.layers import LSTM\n",
    "from keras.layers.embeddings import Embedding\n",
    "from keras.preprocessing import sequence\n",
    "# fix random seed for reproducibility\n",
    "np.random.seed(7)"
   ]
  },
  {
   "cell_type": "code",
   "execution_count": 15,
   "metadata": {},
   "outputs": [],
   "source": [
    "def plt_dynamic(x, vy, ty):\n",
    "    plt.figure(figsize=(10,5))\n",
    "    plt.plot(x, vy, 'b', label=\"Validation Loss\")\n",
    "    plt.plot(x, ty, 'r', label=\"Train Loss\")\n",
    "    plt.xlabel('Epochs') \n",
    "    plt.ylabel('Binary Crossentropy Loss')\n",
    "    plt.title('\\nBinary Crossentropy Loss VS Epochs')\n",
    "    plt.legend()\n",
    "    plt.grid()\n",
    "    plt.show()"
   ]
  },
  {
   "cell_type": "markdown",
   "metadata": {},
   "source": [
    "## Model 1-  LSTM layer with Adadelta optimizer"
   ]
  },
  {
   "cell_type": "code",
   "execution_count": 16,
   "metadata": {
    "scrolled": true
   },
   "outputs": [
    {
     "name": "stdout",
     "output_type": "stream",
     "text": [
      "(70000, 200)\n",
      "[    0     0     0     0     0     0     0     0     0     0     0     0\n",
      "     0     0     0     0     0     0     0     0     0     0     0     0\n",
      "     0     0     0     0     0     0     0     0     0     0     0     0\n",
      "     0     0     0     0     0     0     0     0     0     0     0     0\n",
      "     0     0     0     0     0     0     0     0     0     0     0     0\n",
      "     0     0     0     0     0     0     0     0     0     0     0     0\n",
      "     0     0     0     0     0     0     0     0     0     0     0     0\n",
      "     0     0     0     0     0     0     0     0     0     0     0     0\n",
      "     0     0     0     0     0     0     0     0     0     0     0     0\n",
      "     0     0     0     0     0     0     0     0     0     0     0     0\n",
      "     0     0     0     0     0     0     0     0     0     0     0     0\n",
      "     0     0     0     0     0     0     0     0     0     0     0     0\n",
      "     0     0     0     0     0     0     0     0     0     0     0     0\n",
      "     0     0     0     0     0     0     0     0     0     0     0     0\n",
      "     0     0     0     0     0  1035   232 12372  1082   661    19  7987\n",
      "  1215  2701     8   369     8   141   594   128   640   378 12074   106\n",
      "   212  3272    91    71   267    84  1639   149]\n"
     ]
    }
   ],
   "source": [
    "# truncate and/or pad input sequences\n",
    "max_review_length = 200\n",
    "\n",
    "X_train = sequence.pad_sequences(X_train, maxlen=max_review_length)\n",
    "X_test = sequence.pad_sequences(X_test, maxlen=max_review_length)\n",
    "\n",
    "print(X_train.shape)\n",
    "print(X_train[1])"
   ]
  },
  {
   "cell_type": "code",
   "execution_count": 17,
   "metadata": {},
   "outputs": [
    {
     "name": "stdout",
     "output_type": "stream",
     "text": [
      "WARNING:tensorflow:From C:\\Users\\hp\\Anaconda3\\lib\\site-packages\\tensorflow\\python\\framework\\op_def_library.py:263: colocate_with (from tensorflow.python.framework.ops) is deprecated and will be removed in a future version.\n",
      "Instructions for updating:\n",
      "Colocations handled automatically by placer.\n",
      "_________________________________________________________________\n",
      "Layer (type)                 Output Shape              Param #   \n",
      "=================================================================\n",
      "embedding_1 (Embedding)      (None, 200, 32)           2292064   \n",
      "_________________________________________________________________\n",
      "lstm_1 (LSTM)                (None, 70)                28840     \n",
      "_________________________________________________________________\n",
      "dense_1 (Dense)              (None, 1)                 71        \n",
      "=================================================================\n",
      "Total params: 2,320,975\n",
      "Trainable params: 2,320,975\n",
      "Non-trainable params: 0\n",
      "_________________________________________________________________\n",
      "None\n"
     ]
    }
   ],
   "source": [
    "embedding_vecor_length = 32\n",
    "model = Sequential()\n",
    "model.add(Embedding(len(vocab.keys())+1, embedding_vecor_length, input_length=max_review_length))\n",
    "\n",
    "model.add(LSTM(70))\n",
    "\n",
    "model.add(Dense(1, activation='sigmoid'))\n",
    "model.compile(loss='binary_crossentropy', optimizer='Adadelta', metrics=['accuracy'])\n",
    "print(model.summary())"
   ]
  },
  {
   "cell_type": "code",
   "execution_count": 18,
   "metadata": {},
   "outputs": [
    {
     "name": "stdout",
     "output_type": "stream",
     "text": [
      "WARNING:tensorflow:From C:\\Users\\hp\\Anaconda3\\lib\\site-packages\\tensorflow\\python\\ops\\math_ops.py:3066: to_int32 (from tensorflow.python.ops.math_ops) is deprecated and will be removed in a future version.\n",
      "Instructions for updating:\n",
      "Use tf.cast instead.\n",
      "Train on 70000 samples, validate on 30000 samples\n",
      "Epoch 1/10\n",
      "70000/70000 [==============================] - 438s 6ms/step - loss: 0.3431 - acc: 0.8707 - val_loss: 0.2282 - val_acc: 0.9080\n",
      "Epoch 2/10\n",
      "70000/70000 [==============================] - 410s 6ms/step - loss: 0.2155 - acc: 0.9144 - val_loss: 0.2030 - val_acc: 0.9191\n",
      "Epoch 3/10\n",
      "70000/70000 [==============================] - 409s 6ms/step - loss: 0.1942 - acc: 0.9248 - val_loss: 0.2051 - val_acc: 0.9193\n",
      "Epoch 4/10\n",
      "70000/70000 [==============================] - 409s 6ms/step - loss: 0.1861 - acc: 0.9286 - val_loss: 0.1983 - val_acc: 0.9233\n",
      "Epoch 5/10\n",
      "70000/70000 [==============================] - 386s 6ms/step - loss: 0.1800 - acc: 0.9309 - val_loss: 0.1971 - val_acc: 0.9228\n",
      "Epoch 6/10\n",
      "70000/70000 [==============================] - 378s 5ms/step - loss: 0.1752 - acc: 0.9330 - val_loss: 0.2016 - val_acc: 0.9226\n",
      "Epoch 7/10\n",
      "70000/70000 [==============================] - 412s 6ms/step - loss: 0.1708 - acc: 0.9354 - val_loss: 0.1996 - val_acc: 0.9190\n",
      "Epoch 8/10\n",
      "70000/70000 [==============================] - 4721s 67ms/step - loss: 0.1672 - acc: 0.9369 - val_loss: 0.2002 - val_acc: 0.9200\n",
      "Epoch 9/10\n",
      "70000/70000 [==============================] - 381s 5ms/step - loss: 0.1681 - acc: 0.9362 - val_loss: 0.1991 - val_acc: 0.9200\n",
      "Epoch 10/10\n",
      "70000/70000 [==============================] - 377s 5ms/step - loss: 0.1594 - acc: 0.9406 - val_loss: 0.2031 - val_acc: 0.9194\n",
      "Accuracy: 91.94%\n"
     ]
    }
   ],
   "source": [
    "history = model.fit(X_train, y_train, epochs = 10, batch_size=128, verbose=1,validation_data=(X_test, y_test))\n",
    "scores = model.evaluate(X_test, y_test, verbose = 0)\n",
    "print(\"Accuracy: %.2f%%\" % (scores[1]*100))"
   ]
  },
  {
   "cell_type": "code",
   "execution_count": 19,
   "metadata": {},
   "outputs": [
    {
     "data": {
      "image/png": "[encoded data removed]",
      "text/plain": [
       "<Figure size 720x360 with 1 Axes>"
      ]
     },
     "metadata": {},
     "output_type": "display_data"
    }
   ],
   "source": [
    "x = list(range(1,11))\n",
    "train_acc_1  = history.history['acc']\n",
    "val_acc_1    = history.history['val_acc']\n",
    "vy_1 = history.history['val_loss']\n",
    "ty_1 = history.history['loss']\n",
    "plt_dynamic(x, vy_1, ty_1)"
   ]
  },
  {
   "cell_type": "markdown",
   "metadata": {},
   "source": [
    "### Model 2- LSTM layer + Dropout (adam optimizer)"
   ]
  },
  {
   "cell_type": "code",
   "execution_count": 20,
   "metadata": {},
   "outputs": [
    {
     "name": "stdout",
     "output_type": "stream",
     "text": [
      "(70000, 300)\n",
      "[    0     0     0     0     0     0     0     0     0     0     0     0\n",
      "     0     0     0     0     0     0     0     0     0     0     0     0\n",
      "     0     0     0     0     0     0     0     0     0     0     0     0\n",
      "     0     0     0     0     0     0     0     0     0     0     0     0\n",
      "     0     0     0     0     0     0     0     0     0     0     0     0\n",
      "     0     0     0     0     0     0     0     0     0     0     0     0\n",
      "     0     0     0     0     0     0     0     0     0     0     0     0\n",
      "     0     0     0     0     0     0     0     0     0     0     0     0\n",
      "     0     0     0     0     0     0     0     0     0     0     0     0\n",
      "     0     0     0     0     0     0     0     0     0     0     0     0\n",
      "     0     0     0     0     0     0     0     0     0     0     0     0\n",
      "     0     0     0     0     0     0     0     0     0     0     0     0\n",
      "     0     0     0     0     0     0     0     0     0     0     0     0\n",
      "     0     0     0     0     0     0     0     0     0     0     0     0\n",
      "     0     0     0     0     0     0     0     0     0     0     0     0\n",
      "     0     0     0     0     0     0     0     0     0     0     0     0\n",
      "     0     0     0     0     0     0     0     0     0     0     0     0\n",
      "     0     0     0     0     0     0     0     0     0     0     0     0\n",
      "     0     0     0     0     0     0     0     0     0     0     0     0\n",
      "     0     0     0     0     0     0     0     0     0     0     0     0\n",
      "     0     0     0     0     0     0     0     0     0     0     0     0\n",
      "     0     0     0     0     0     0     0     0     0     0     0     0\n",
      "     0     0     0     0     0     0     0     0     0  1035   232 12372\n",
      "  1082   661    19  7987  1215  2701     8   369     8   141   594   128\n",
      "   640   378 12074   106   212  3272    91    71   267    84  1639   149]\n"
     ]
    }
   ],
   "source": [
    "# truncate and/or pad input sequences\n",
    "max_review_length = 300\n",
    "\n",
    "X_train = sequence.pad_sequences(X_train, maxlen=max_review_length)\n",
    "X_test = sequence.pad_sequences(X_test, maxlen=max_review_length)\n",
    "\n",
    "print(X_train.shape)\n",
    "print(X_train[1])"
   ]
  },
  {
   "cell_type": "code",
   "execution_count": 21,
   "metadata": {},
   "outputs": [
    {
     "name": "stdout",
     "output_type": "stream",
     "text": [
      "WARNING:tensorflow:From C:\\Users\\hp\\Anaconda3\\lib\\site-packages\\keras\\backend\\tensorflow_backend.py:3445: calling dropout (from tensorflow.python.ops.nn_ops) with keep_prob is deprecated and will be removed in a future version.\n",
      "Instructions for updating:\n",
      "Please use `rate` instead of `keep_prob`. Rate should be set to `rate = 1 - keep_prob`.\n",
      "_________________________________________________________________\n",
      "Layer (type)                 Output Shape              Param #   \n",
      "=================================================================\n",
      "embedding_2 (Embedding)      (None, 300, 32)           2292064   \n",
      "_________________________________________________________________\n",
      "dropout_1 (Dropout)          (None, 300, 32)           0         \n",
      "_________________________________________________________________\n",
      "lstm_2 (LSTM)                (None, 100)               53200     \n",
      "_________________________________________________________________\n",
      "dropout_2 (Dropout)          (None, 100)               0         \n",
      "_________________________________________________________________\n",
      "dense_2 (Dense)              (None, 1)                 101       \n",
      "=================================================================\n",
      "Total params: 2,345,365\n",
      "Trainable params: 2,345,365\n",
      "Non-trainable params: 0\n",
      "_________________________________________________________________\n",
      "None\n"
     ]
    }
   ],
   "source": [
    "from keras.layers import Dropout\n",
    "embedding_vecor_length = 32\n",
    "model = Sequential()\n",
    "model.add(Embedding(len(vocab.keys())+1, embedding_vecor_length, input_length=max_review_length))\n",
    "model.add(Dropout(0.6))\n",
    "\n",
    "model.add(LSTM(100))\n",
    "model.add(Dropout(0.4))\n",
    "\n",
    "model.add(Dense(1, activation='sigmoid'))\n",
    "model.compile(loss='binary_crossentropy', optimizer='adam', metrics=['accuracy'])\n",
    "print(model.summary())"
   ]
  },
  {
   "cell_type": "code",
   "execution_count": 22,
   "metadata": {},
   "outputs": [
    {
     "name": "stdout",
     "output_type": "stream",
     "text": [
      "Train on 70000 samples, validate on 30000 samples\n",
      "Epoch 1/20\n",
      "70000/70000 [==============================] - 551s 8ms/step - loss: 0.2828 - acc: 0.8905 - val_loss: 0.2034 - val_acc: 0.9179\n",
      "Epoch 2/20\n",
      "70000/70000 [==============================] - 559s 8ms/step - loss: 0.1957 - acc: 0.9250 - val_loss: 0.2011 - val_acc: 0.9219\n",
      "Epoch 3/20\n",
      "70000/70000 [==============================] - 550s 8ms/step - loss: 0.1769 - acc: 0.9328 - val_loss: 0.2013 - val_acc: 0.9217\n",
      "Epoch 4/20\n",
      "70000/70000 [==============================] - 551s 8ms/step - loss: 0.1615 - acc: 0.9394 - val_loss: 0.2043 - val_acc: 0.9213\n",
      "Epoch 5/20\n",
      "70000/70000 [==============================] - 550s 8ms/step - loss: 0.1523 - acc: 0.9430 - val_loss: 0.2138 - val_acc: 0.9210\n",
      "Epoch 6/20\n",
      "70000/70000 [==============================] - 548s 8ms/step - loss: 0.1431 - acc: 0.9462 - val_loss: 0.2166 - val_acc: 0.9207\n",
      "Epoch 7/20\n",
      "70000/70000 [==============================] - 548s 8ms/step - loss: 0.1357 - acc: 0.9487 - val_loss: 0.2142 - val_acc: 0.9190\n",
      "Epoch 8/20\n",
      "70000/70000 [==============================] - 552s 8ms/step - loss: 0.1293 - acc: 0.9518 - val_loss: 0.2232 - val_acc: 0.9180\n",
      "Epoch 9/20\n",
      "70000/70000 [==============================] - 547s 8ms/step - loss: 0.1242 - acc: 0.9533 - val_loss: 0.2298 - val_acc: 0.9179\n",
      "Epoch 10/20\n",
      "70000/70000 [==============================] - 599s 9ms/step - loss: 0.1193 - acc: 0.9557 - val_loss: 0.2254 - val_acc: 0.9174\n",
      "Epoch 11/20\n",
      "70000/70000 [==============================] - 593s 8ms/step - loss: 0.1120 - acc: 0.9592 - val_loss: 0.2438 - val_acc: 0.9174\n",
      "Epoch 12/20\n",
      "70000/70000 [==============================] - 596s 9ms/step - loss: 0.1097 - acc: 0.9601 - val_loss: 0.2478 - val_acc: 0.9162\n",
      "Epoch 13/20\n",
      "70000/70000 [==============================] - 595s 8ms/step - loss: 0.1066 - acc: 0.9606 - val_loss: 0.2437 - val_acc: 0.9164\n",
      "Epoch 14/20\n",
      "70000/70000 [==============================] - 594s 8ms/step - loss: 0.1023 - acc: 0.9626 - val_loss: 0.2413 - val_acc: 0.9148\n",
      "Epoch 15/20\n",
      "70000/70000 [==============================] - 577s 8ms/step - loss: 0.0983 - acc: 0.9644 - val_loss: 0.2599 - val_acc: 0.9167\n",
      "Epoch 16/20\n",
      "70000/70000 [==============================] - 550s 8ms/step - loss: 0.0973 - acc: 0.9645 - val_loss: 0.2607 - val_acc: 0.9158\n",
      "Epoch 17/20\n",
      "70000/70000 [==============================] - 555s 8ms/step - loss: 0.0946 - acc: 0.9659 - val_loss: 0.2790 - val_acc: 0.9156\n",
      "Epoch 18/20\n",
      "70000/70000 [==============================] - 554s 8ms/step - loss: 0.0911 - acc: 0.9668 - val_loss: 0.2824 - val_acc: 0.9127\n",
      "Epoch 19/20\n",
      "70000/70000 [==============================] - 552s 8ms/step - loss: 0.0885 - acc: 0.9677 - val_loss: 0.2734 - val_acc: 0.9144\n",
      "Epoch 20/20\n",
      "70000/70000 [==============================] - 551s 8ms/step - loss: 0.0872 - acc: 0.9682 - val_loss: 0.2795 - val_acc: 0.9136\n",
      "Accuracy: 91.36%\n"
     ]
    }
   ],
   "source": [
    "history = model.fit(X_train, y_train, epochs = 20, batch_size=128, verbose=1,validation_data=(X_test, y_test))\n",
    "scores = model.evaluate(X_test, y_test, verbose = 0)\n",
    "print(\"Accuracy: %.2f%%\" % (scores[1]*100))"
   ]
  },
  {
   "cell_type": "code",
   "execution_count": 23,
   "metadata": {
    "scrolled": true
   },
   "outputs": [
    {
     "data": {
      "image/png": "[encoded data removed]",
      "text/plain": [
       "<Figure size 720x360 with 1 Axes>"
      ]
     },
     "metadata": {},
     "output_type": "display_data"
    }
   ],
   "source": [
    "x = list(range(1,21))\n",
    "train_acc_1  = history.history['acc']\n",
    "val_acc_1    = history.history['val_acc']\n",
    "vy_1 = history.history['val_loss']\n",
    "ty_1 = history.history['loss']\n",
    "plt_dynamic(x, vy_1, ty_1)"
   ]
  },
  {
   "cell_type": "markdown",
   "metadata": {},
   "source": [
    "### Model3-LSTM with dropout "
   ]
  },
  {
   "cell_type": "code",
   "execution_count": 25,
   "metadata": {},
   "outputs": [
    {
     "name": "stdout",
     "output_type": "stream",
     "text": [
      "(70000, 300)\n",
      "[    0     0     0     0     0     0     0     0     0     0     0     0\n",
      "     0     0     0     0     0     0     0     0     0     0     0     0\n",
      "     0     0     0     0     0     0     0     0     0     0     0     0\n",
      "     0     0     0     0     0     0     0     0     0     0     0     0\n",
      "     0     0     0     0     0     0     0     0     0     0     0     0\n",
      "     0     0     0     0     0     0     0     0     0     0     0     0\n",
      "     0     0     0     0     0     0     0     0     0     0     0     0\n",
      "     0     0     0     0     0     0     0     0     0     0     0     0\n",
      "     0     0     0     0     0     0     0     0     0     0     0     0\n",
      "     0     0     0     0     0     0     0     0     0     0     0     0\n",
      "     0     0     0     0     0     0     0     0     0     0     0     0\n",
      "     0     0     0     0     0     0     0     0     0     0     0     0\n",
      "     0     0     0     0     0     0     0     0     0     0     0     0\n",
      "     0     0     0     0     0     0     0     0     0     0     0     0\n",
      "     0     0     0     0     0     0     0     0     0     0     0     0\n",
      "     0     0     0     0     0     0     0     0     0     0     0     0\n",
      "     0     0     0     0     0     0     0     0     0     0     0     0\n",
      "     0     0     0     0     0     0     0     0     0     0     0     0\n",
      "     0     0     0     0     0     0     0     0     0     0     0     0\n",
      "     0     0     0     0     0     0     0     0     0     0     0     0\n",
      "     0     0     0     0     0     0     0     0     0     0     0     0\n",
      "     0     0     0     0     0     0     0     0     0     0     0     0\n",
      "     0     0     0     0     0     0     0     0     0  1035   232 12372\n",
      "  1082   661    19  7987  1215  2701     8   369     8   141   594   128\n",
      "   640   378 12074   106   212  3272    91    71   267    84  1639   149]\n"
     ]
    }
   ],
   "source": [
    "# truncate and/or pad input sequences\n",
    "max_review_length = 300\n",
    "\n",
    "X_train = sequence.pad_sequences(X_train, maxlen=max_review_length)\n",
    "X_test = sequence.pad_sequences(X_test, maxlen=max_review_length)\n",
    "\n",
    "print(X_train.shape)\n",
    "print(X_train[1])"
   ]
  },
  {
   "cell_type": "code",
   "execution_count": 28,
   "metadata": {},
   "outputs": [
    {
     "name": "stdout",
     "output_type": "stream",
     "text": [
      "_________________________________________________________________\n",
      "Layer (type)                 Output Shape              Param #   \n",
      "=================================================================\n",
      "embedding_5 (Embedding)      (None, 300, 32)           2292064   \n",
      "_________________________________________________________________\n",
      "dropout_7 (Dropout)          (None, 300, 32)           0         \n",
      "_________________________________________________________________\n",
      "lstm_7 (LSTM)                (None, 70)                28840     \n",
      "_________________________________________________________________\n",
      "dropout_8 (Dropout)          (None, 70)                0         \n",
      "_________________________________________________________________\n",
      "dense_3 (Dense)              (None, 1)                 71        \n",
      "=================================================================\n",
      "Total params: 2,320,975\n",
      "Trainable params: 2,320,975\n",
      "Non-trainable params: 0\n",
      "_________________________________________________________________\n",
      "None\n"
     ]
    }
   ],
   "source": [
    "embedding_vecor_length = 32\n",
    "model = Sequential()\n",
    "model.add(Embedding(len(vocab.keys())+1, embedding_vecor_length, input_length=max_review_length))\n",
    "model.add(Dropout(0.6))\n",
    "\n",
    "model.add(LSTM(70))\n",
    "model.add(Dropout(0.5))\n",
    "\n",
    "\n",
    "model.add(Dense(1, activation='sigmoid'))\n",
    "model.compile(loss='binary_crossentropy', optimizer='adam', metrics=['accuracy'])\n",
    "print(model.summary())"
   ]
  },
  {
   "cell_type": "code",
   "execution_count": 30,
   "metadata": {},
   "outputs": [
    {
     "name": "stdout",
     "output_type": "stream",
     "text": [
      "Train on 70000 samples, validate on 30000 samples\n",
      "Epoch 1/12\n",
      "70000/70000 [==============================] - 744s 11ms/step - loss: 0.2774 - acc: 0.8914 - val_loss: 0.2039 - val_acc: 0.9192\n",
      "Epoch 2/12\n",
      "70000/70000 [==============================] - 623s 9ms/step - loss: 0.1973 - acc: 0.9255 - val_loss: 0.2007 - val_acc: 0.9213\n",
      "Epoch 3/12\n",
      "70000/70000 [==============================] - 623s 9ms/step - loss: 0.1773 - acc: 0.9328 - val_loss: 0.2014 - val_acc: 0.9191\n",
      "Epoch 4/12\n",
      "70000/70000 [==============================] - 623s 9ms/step - loss: 0.1635 - acc: 0.9380 - val_loss: 0.2019 - val_acc: 0.9194\n",
      "Epoch 5/12\n",
      "70000/70000 [==============================] - 622s 9ms/step - loss: 0.1522 - acc: 0.9439 - val_loss: 0.2130 - val_acc: 0.9198\n",
      "Epoch 6/12\n",
      "70000/70000 [==============================] - 645s 9ms/step - loss: 0.1443 - acc: 0.9470 - val_loss: 0.2119 - val_acc: 0.9198\n",
      "Epoch 7/12\n",
      "70000/70000 [==============================] - 630s 9ms/step - loss: 0.1366 - acc: 0.9497 - val_loss: 0.2200 - val_acc: 0.9137\n",
      "Epoch 8/12\n",
      "70000/70000 [==============================] - 622s 9ms/step - loss: 0.1285 - acc: 0.9525 - val_loss: 0.2330 - val_acc: 0.9148\n",
      "Epoch 9/12\n",
      "70000/70000 [==============================] - 654s 9ms/step - loss: 0.1244 - acc: 0.9535 - val_loss: 0.2340 - val_acc: 0.9176\n",
      "Epoch 10/12\n",
      "70000/70000 [==============================] - 560s 8ms/step - loss: 0.1191 - acc: 0.9563 - val_loss: 0.2463 - val_acc: 0.9175\n",
      "Epoch 11/12\n",
      "70000/70000 [==============================] - 562s 8ms/step - loss: 0.1145 - acc: 0.9593 - val_loss: 0.2418 - val_acc: 0.9183\n",
      "Epoch 12/12\n",
      "70000/70000 [==============================] - 558s 8ms/step - loss: 0.1107 - acc: 0.9592 - val_loss: 0.2347 - val_acc: 0.9165\n",
      "Accuracy: 91.65%\n"
     ]
    }
   ],
   "source": [
    "history = model.fit(X_train, y_train, epochs = 12, batch_size=128, verbose=1,validation_data=(X_test, y_test))\n",
    "scores = model.evaluate(X_test, y_test, verbose = 0)\n",
    "print(\"Accuracy: %.2f%%\" % (scores[1]*100))"
   ]
  },
  {
   "cell_type": "code",
   "execution_count": 34,
   "metadata": {},
   "outputs": [
    {
     "data": {
      "image/png": "[encoded data removed]",
      "text/plain": [
       "<Figure size 720x360 with 1 Axes>"
      ]
     },
     "metadata": {},
     "output_type": "display_data"
    }
   ],
   "source": [
    "x = list(range(1,13))\n",
    "train_acc_1  = history.history['acc']\n",
    "val_acc_1    = history.history['val_acc']\n",
    "vy_1 = history.history['val_loss']\n",
    "ty_1 = history.history['loss']\n",
    "plt_dynamic(x, vy_1, ty_1)"
   ]
  },
  {
   "cell_type": "markdown",
   "metadata": {},
   "source": [
    "# Conclusion"
   ]
  },
  {
   "cell_type": "code",
   "execution_count": 37,
   "metadata": {},
   "outputs": [
    {
     "name": "stdout",
     "output_type": "stream",
     "text": [
      "+------+-------------------------------+--------------------+\n",
      "| S.NO |         Implementation        |  Accuracy of model |\n",
      "+------+-------------------------------+--------------------+\n",
      "|  1   |       Model1 with LSTM        |       91.94        |\n",
      "|  2   | Model2 with LSTM with dropout |       91.36        |\n",
      "|  3   | Model3 with LSTM with dropout |       91.65        |\n",
      "+------+-------------------------------+--------------------+\n"
     ]
    }
   ],
   "source": [
    "from prettytable import PrettyTable\n",
    "ptable = PrettyTable()\n",
    "accuracy=[91.94,91.36,91.65]\n",
    "impl=[\"Model1 with LSTM \", \"Model2 with LSTM with dropout\",\"Model3 with LSTM with dropout\" ]\n",
    "ptable.add_column(\"S.NO\",[1,2,3])\n",
    "ptable.add_column(\"Implementation\",impl)\n",
    "ptable.add_column(\" Accuracy of model\",accuracy)\n",
    "print(ptable)"
   ]
  },
  {
   "cell_type": "code",
   "execution_count": null,
   "metadata": {},
   "outputs": [],
   "source": []
  }
 ],
 "metadata": {
  "kernelspec": {
   "display_name": "Python 3.6 (tensorflow)",
   "language": "python",
   "name": "tensorflow"
  },
  "language_info": {
   "codemirror_mode": {
    "name": "ipython",
    "version": 3
   },
   "file_extension": ".py",
   "mimetype": "text/x-python",
   "name": "python",
   "nbconvert_exporter": "python",
   "pygments_lexer": "ipython3",
   "version": "3.6.5"
  }
 },
 "nbformat": 4,
 "nbformat_minor": 2
}
